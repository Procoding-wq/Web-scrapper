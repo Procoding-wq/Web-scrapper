from selenium import webdriver
from selenium.webdriver.common.by import By
from selenium.webdriver.chrome.options import Options
from selenium.common.exceptions import NoSuchElementException, TimeoutException, ElementClickInterceptedException
from selenium.webdriver.chrome.service import Service
from webdriver_manager.chrome import ChromeDriverManager
import time


def fetch_urls(target_url):
    # Chrome options
    chrome_options = Options()
    chrome_options.add_argument("--headless")        # run in background
    chrome_options.add_argument("--no-sandbox")
    chrome_options.add_argument("--disable-dev-shm-usage")
    chrome_options.add_argument("--disable-notifications")
    chrome_options.add_argument("--disable-popup-blocking")

    # ✅ Correct way: use Service with webdriver-manager
    driver = webdriver.Chrome(service=Service(ChromeDriverManager().install()),
                              options=chrome_options)

    try:
        driver.get(target_url)
        time.sleep(5)  # wait for page load and popup

        # Handle cookie banners / modals
        possible_selectors = [
            "button[aria-label='Consent']",
            "button[aria-label='Accept']",
            "button[title='Accept']",
            "button[mode='primary']",
            "button.accept",
            "button#onetrust-accept-btn-handler",
            "button[aria-label='close']",
            ".close-button",
        ]

        for selector in possible_selectors:
            try:
                element = driver.find_element(By.CSS_SELECTOR, selector)
                element.click()
                print(f"✔ Closed popup: {selector}")
                time.sleep(1)
            except (NoSuchElementException, ElementClickInterceptedException):
                continue

        # Extract all links
        anchors = driver.find_elements(By.TAG_NAME, "a")
        urls = [a.get_attribute("href") for a in anchors if a.get_attribute("href")]

        return list(set(urls))

    except TimeoutException:
        print("⏳ Page took too long to load.")
        return []
    finally:
        driver.quit()


if __name__ == "__main__":
    url = "https://www.bbc.com"
    urls = fetch_urls(url)

    print("\n--- Extracted URLs ---")
    for u in urls:
        print(u)
